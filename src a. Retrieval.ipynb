{
 "cells": [
  {
   "cell_type": "markdown",
   "id": "284a6008",
   "metadata": {},
   "source": [
    "# Tensorflow Recommenders - An Implementation on Retail Data"
   ]
  },
  {
   "cell_type": "markdown",
   "id": "ef0c96e5",
   "metadata": {},
   "source": [
    "Objective: To demonstrate TensorFlow 2.0 TFRS recommenders library to build a recommendation system on a customer retail data.\n",
    "\n",
    "Data source: https://www.kaggle.com/olistbr/brazilian-ecommerce/home/\n",
    "\n",
    "Benefit: Flexible model, ability to add different features and specify and adjust model complexity easily.\n",
    "\n",
    "Two types of recommendation model-- Retrieval and Ranking.\n",
    "\n",
    "Retrieval: The retrieval stage is responsible for selecting an initial set of hundreds of candidates from all possible candidates. The main objective of this model is to efficiently weed out all candidates that the user is not interested in. Because the retrieval model may be dealing with millions of candidates, it has to be computationally efficient.\n",
    "Retrieval can be computationally more efficient because it only returns smaller set of items a user would strongly interested.\n",
    "\n",
    "Ranking: The ranking stage takes the outputs of the retrieval model and fine-tunes them to select the best possible handful of recommendations. Its task is to narrow down the set of items the user may be interested in to a shortlist of likely candidates."
   ]
  },
  {
   "cell_type": "markdown",
   "id": "3813f873",
   "metadata": {},
   "source": [
    "# Tensorflow recommenders"
   ]
  },
  {
   "cell_type": "markdown",
   "id": "2de571a7",
   "metadata": {},
   "source": [
    "Tensorflow recommders work akin to a hybrid recommendation system, where it combines the interactions in between users and items, alongside any features available of both, in a matrix dot product. The content of both sides of equation are embed in layers of what they called a tower model, where they stack these information, learn about them separately, and combine them for learning and loss propagation."
   ]
  },
  {
   "cell_type": "markdown",
   "id": "1e476c5e",
   "metadata": {},
   "source": [
    "# Pros and cons"
   ]
  },
  {
   "cell_type": "markdown",
   "id": "1517ae95",
   "metadata": {},
   "source": [
    "Pros:\n",
    "- flexibility to add features\n",
    "- flexiblity to tune models\n",
    "- with decent knowledge of Tensorflow, users can expand the layers of deep learning to create a complex engine\n",
    "\n",
    "Cons:\n",
    "- Further developement needed to scale up towards sparse data\n",
    " - strict data requirement, not-user friendly\n",
    " "
   ]
  },
  {
   "cell_type": "markdown",
   "id": "a42234be",
   "metadata": {},
   "source": [
    "## Basic Retrieval Model"
   ]
  },
  {
   "cell_type": "markdown",
   "id": "3b6ce1d6",
   "metadata": {},
   "source": [
    "Load the data. It has been cleaned before, so here is the cleaned and merged table"
   ]
  },
  {
   "cell_type": "code",
   "execution_count": 1,
   "id": "7b2d9c3d",
   "metadata": {},
   "outputs": [],
   "source": [
    "### Import necessary libraries\n",
    "\n",
    "from typing import Dict, Text\n",
    "\n",
    "import numpy as np\n",
    "import tensorflow as tf\n",
    "\n",
    "import tensorflow_recommenders as tfrs\n",
    "\n",
    "import os\n",
    "import pprint\n",
    "import tempfile\n",
    "\n",
    "import pandas as pd\n",
    "import matplotlib.pyplot as plt\n",
    "%matplotlib inline"
   ]
  },
  {
   "cell_type": "code",
   "execution_count": 2,
   "id": "3a8f3e82",
   "metadata": {},
   "outputs": [
    {
     "data": {
      "text/html": [
       "<div>\n",
       "<style scoped>\n",
       "    .dataframe tbody tr th:only-of-type {\n",
       "        vertical-align: middle;\n",
       "    }\n",
       "\n",
       "    .dataframe tbody tr th {\n",
       "        vertical-align: top;\n",
       "    }\n",
       "\n",
       "    .dataframe thead th {\n",
       "        text-align: right;\n",
       "    }\n",
       "</style>\n",
       "<table border=\"1\" class=\"dataframe\">\n",
       "  <thead>\n",
       "    <tr style=\"text-align: right;\">\n",
       "      <th></th>\n",
       "      <th>Unnamed: 0</th>\n",
       "      <th>order_id</th>\n",
       "      <th>order_purchase_timestamp</th>\n",
       "      <th>user_id</th>\n",
       "      <th>customer_city</th>\n",
       "      <th>customer_state</th>\n",
       "      <th>product_category</th>\n",
       "      <th>quantity</th>\n",
       "      <th>price</th>\n",
       "      <th>review_score</th>\n",
       "      <th>timestamp</th>\n",
       "      <th>product_code</th>\n",
       "      <th>product_id</th>\n",
       "    </tr>\n",
       "  </thead>\n",
       "  <tbody>\n",
       "    <tr>\n",
       "      <th>0</th>\n",
       "      <td>0</td>\n",
       "      <td>e481f51cbdc54678b7cc49136f2d6af7</td>\n",
       "      <td>2017-10-02 10:56:33</td>\n",
       "      <td>9ef432eb6251297304e76186b10a928d</td>\n",
       "      <td>sao paulo</td>\n",
       "      <td>SP</td>\n",
       "      <td>housewares</td>\n",
       "      <td>1.0</td>\n",
       "      <td>29.99</td>\n",
       "      <td>4</td>\n",
       "      <td>1.506942e+09</td>\n",
       "      <td>87285b34884572647811a353c7ac498a</td>\n",
       "      <td>housewares SKU 0</td>\n",
       "    </tr>\n",
       "    <tr>\n",
       "      <th>1</th>\n",
       "      <td>1</td>\n",
       "      <td>53cdb2fc8bc7dce0b6741e2150273451</td>\n",
       "      <td>2018-07-24 20:41:37</td>\n",
       "      <td>b0830fb4747a6c6d20dea0b8c802d7ef</td>\n",
       "      <td>barreiras</td>\n",
       "      <td>BA</td>\n",
       "      <td>perfumery</td>\n",
       "      <td>1.0</td>\n",
       "      <td>118.70</td>\n",
       "      <td>4</td>\n",
       "      <td>1.532465e+09</td>\n",
       "      <td>595fac2a385ac33a80bd5114aec74eb8</td>\n",
       "      <td>perfumery SKU 0</td>\n",
       "    </tr>\n",
       "    <tr>\n",
       "      <th>2</th>\n",
       "      <td>2</td>\n",
       "      <td>47770eb9100c2d0c44946d9cf07ec65d</td>\n",
       "      <td>2018-08-08 08:38:49</td>\n",
       "      <td>41ce2a54c0b03bf3443c3d931a367089</td>\n",
       "      <td>vianopolis</td>\n",
       "      <td>GO</td>\n",
       "      <td>auto</td>\n",
       "      <td>1.0</td>\n",
       "      <td>159.90</td>\n",
       "      <td>5</td>\n",
       "      <td>1.533718e+09</td>\n",
       "      <td>aa4383b373c6aca5d8797843e5594415</td>\n",
       "      <td>auto SKU 0</td>\n",
       "    </tr>\n",
       "  </tbody>\n",
       "</table>\n",
       "</div>"
      ],
      "text/plain": [
       "   Unnamed: 0                          order_id order_purchase_timestamp  \\\n",
       "0           0  e481f51cbdc54678b7cc49136f2d6af7      2017-10-02 10:56:33   \n",
       "1           1  53cdb2fc8bc7dce0b6741e2150273451      2018-07-24 20:41:37   \n",
       "2           2  47770eb9100c2d0c44946d9cf07ec65d      2018-08-08 08:38:49   \n",
       "\n",
       "                            user_id customer_city customer_state  \\\n",
       "0  9ef432eb6251297304e76186b10a928d     sao paulo             SP   \n",
       "1  b0830fb4747a6c6d20dea0b8c802d7ef     barreiras             BA   \n",
       "2  41ce2a54c0b03bf3443c3d931a367089    vianopolis             GO   \n",
       "\n",
       "  product_category  quantity   price  review_score     timestamp  \\\n",
       "0       housewares       1.0   29.99             4  1.506942e+09   \n",
       "1        perfumery       1.0  118.70             4  1.532465e+09   \n",
       "2             auto       1.0  159.90             5  1.533718e+09   \n",
       "\n",
       "                       product_code        product_id  \n",
       "0  87285b34884572647811a353c7ac498a  housewares SKU 0  \n",
       "1  595fac2a385ac33a80bd5114aec74eb8   perfumery SKU 0  \n",
       "2  aa4383b373c6aca5d8797843e5594415        auto SKU 0  "
      ]
     },
     "execution_count": 2,
     "metadata": {},
     "output_type": "execute_result"
    }
   ],
   "source": [
    "masterdf = pd.read_csv('../data_cleaned/brazildata_mod.csv')\n",
    "masterdf.head(3)"
   ]
  },
  {
   "cell_type": "code",
   "execution_count": 5,
   "id": "8bc6701a",
   "metadata": {
    "scrolled": false
   },
   "outputs": [
    {
     "data": {
      "text/html": [
       "<div>\n",
       "<style scoped>\n",
       "    .dataframe tbody tr th:only-of-type {\n",
       "        vertical-align: middle;\n",
       "    }\n",
       "\n",
       "    .dataframe tbody tr th {\n",
       "        vertical-align: top;\n",
       "    }\n",
       "\n",
       "    .dataframe thead th {\n",
       "        text-align: right;\n",
       "    }\n",
       "</style>\n",
       "<table border=\"1\" class=\"dataframe\">\n",
       "  <thead>\n",
       "    <tr style=\"text-align: right;\">\n",
       "      <th></th>\n",
       "      <th>order_id</th>\n",
       "      <th>timestamp</th>\n",
       "      <th>user_id</th>\n",
       "      <th>customer_city</th>\n",
       "      <th>product_category</th>\n",
       "      <th>product_id</th>\n",
       "      <th>quantity</th>\n",
       "      <th>price</th>\n",
       "      <th>review_score</th>\n",
       "    </tr>\n",
       "  </thead>\n",
       "  <tbody>\n",
       "    <tr>\n",
       "      <th>0</th>\n",
       "      <td>e481f51cbdc54678b7cc49136f2d6af7</td>\n",
       "      <td>1.506942e+09</td>\n",
       "      <td>9ef432eb6251297304e76186b10a928d</td>\n",
       "      <td>sao paulo</td>\n",
       "      <td>housewares</td>\n",
       "      <td>housewares SKU 0</td>\n",
       "      <td>1.0</td>\n",
       "      <td>29.99</td>\n",
       "      <td>4</td>\n",
       "    </tr>\n",
       "    <tr>\n",
       "      <th>1</th>\n",
       "      <td>53cdb2fc8bc7dce0b6741e2150273451</td>\n",
       "      <td>1.532465e+09</td>\n",
       "      <td>b0830fb4747a6c6d20dea0b8c802d7ef</td>\n",
       "      <td>barreiras</td>\n",
       "      <td>perfumery</td>\n",
       "      <td>perfumery SKU 0</td>\n",
       "      <td>1.0</td>\n",
       "      <td>118.70</td>\n",
       "      <td>4</td>\n",
       "    </tr>\n",
       "    <tr>\n",
       "      <th>2</th>\n",
       "      <td>47770eb9100c2d0c44946d9cf07ec65d</td>\n",
       "      <td>1.533718e+09</td>\n",
       "      <td>41ce2a54c0b03bf3443c3d931a367089</td>\n",
       "      <td>vianopolis</td>\n",
       "      <td>auto</td>\n",
       "      <td>auto SKU 0</td>\n",
       "      <td>1.0</td>\n",
       "      <td>159.90</td>\n",
       "      <td>5</td>\n",
       "    </tr>\n",
       "    <tr>\n",
       "      <th>3</th>\n",
       "      <td>949d5b44dbf5de918fe9c16f97b45f8a</td>\n",
       "      <td>1.511033e+09</td>\n",
       "      <td>f88197465ea7920adcdbec7375364d82</td>\n",
       "      <td>sao goncalo do amarante</td>\n",
       "      <td>pet_shop</td>\n",
       "      <td>pet_shop SKU 0</td>\n",
       "      <td>1.0</td>\n",
       "      <td>45.00</td>\n",
       "      <td>5</td>\n",
       "    </tr>\n",
       "    <tr>\n",
       "      <th>4</th>\n",
       "      <td>ad21c59c0840e6cb83a9ceb5573f8159</td>\n",
       "      <td>1.518557e+09</td>\n",
       "      <td>8ab97904e6daea8866dbdbc4fb7aad2c</td>\n",
       "      <td>santo andre</td>\n",
       "      <td>stationery</td>\n",
       "      <td>stationery SKU 0</td>\n",
       "      <td>1.0</td>\n",
       "      <td>19.90</td>\n",
       "      <td>5</td>\n",
       "    </tr>\n",
       "    <tr>\n",
       "      <th>...</th>\n",
       "      <td>...</td>\n",
       "      <td>...</td>\n",
       "      <td>...</td>\n",
       "      <td>...</td>\n",
       "      <td>...</td>\n",
       "      <td>...</td>\n",
       "      <td>...</td>\n",
       "      <td>...</td>\n",
       "      <td>...</td>\n",
       "    </tr>\n",
       "    <tr>\n",
       "      <th>82592</th>\n",
       "      <td>aa04ef5214580b06b10e2a378300db44</td>\n",
       "      <td>1.485477e+09</td>\n",
       "      <td>f01a6bfcc730456317e4081fe0c9940e</td>\n",
       "      <td>divinopolis</td>\n",
       "      <td>health_beauty</td>\n",
       "      <td>health_beauty SKU 100</td>\n",
       "      <td>1.0</td>\n",
       "      <td>370.00</td>\n",
       "      <td>5</td>\n",
       "    </tr>\n",
       "    <tr>\n",
       "      <th>82593</th>\n",
       "      <td>63943bddc261676b46f01ca7ac2f7bd8</td>\n",
       "      <td>1.517922e+09</td>\n",
       "      <td>1fca14ff2861355f6e5f14306ff977a7</td>\n",
       "      <td>praia grande</td>\n",
       "      <td>baby</td>\n",
       "      <td>baby SKU 12</td>\n",
       "      <td>1.0</td>\n",
       "      <td>174.90</td>\n",
       "      <td>4</td>\n",
       "    </tr>\n",
       "    <tr>\n",
       "      <th>82594</th>\n",
       "      <td>83c1379a015df1e13d02aae0204711ab</td>\n",
       "      <td>1.503845e+09</td>\n",
       "      <td>1aa71eb042121263aafbe80c1b562c9c</td>\n",
       "      <td>nova vicosa</td>\n",
       "      <td>home_appliances_2</td>\n",
       "      <td>home_appliances_2 SKU 58</td>\n",
       "      <td>1.0</td>\n",
       "      <td>205.99</td>\n",
       "      <td>5</td>\n",
       "    </tr>\n",
       "    <tr>\n",
       "      <th>82595</th>\n",
       "      <td>11c177c8e97725db2631073c19f07b62</td>\n",
       "      <td>1.515447e+09</td>\n",
       "      <td>b331b74b18dc79bcdf6532d51e1637c1</td>\n",
       "      <td>japuiba</td>\n",
       "      <td>computers_accessories</td>\n",
       "      <td>computers_accessories SKU 2</td>\n",
       "      <td>1.0</td>\n",
       "      <td>179.99</td>\n",
       "      <td>2</td>\n",
       "    </tr>\n",
       "    <tr>\n",
       "      <th>82596</th>\n",
       "      <td>11c177c8e97725db2631073c19f07b62</td>\n",
       "      <td>1.515447e+09</td>\n",
       "      <td>b331b74b18dc79bcdf6532d51e1637c1</td>\n",
       "      <td>japuiba</td>\n",
       "      <td>computers_accessories</td>\n",
       "      <td>computers_accessories SKU 2</td>\n",
       "      <td>2.0</td>\n",
       "      <td>179.99</td>\n",
       "      <td>2</td>\n",
       "    </tr>\n",
       "  </tbody>\n",
       "</table>\n",
       "<p>82597 rows × 9 columns</p>\n",
       "</div>"
      ],
      "text/plain": [
       "                               order_id     timestamp  \\\n",
       "0      e481f51cbdc54678b7cc49136f2d6af7  1.506942e+09   \n",
       "1      53cdb2fc8bc7dce0b6741e2150273451  1.532465e+09   \n",
       "2      47770eb9100c2d0c44946d9cf07ec65d  1.533718e+09   \n",
       "3      949d5b44dbf5de918fe9c16f97b45f8a  1.511033e+09   \n",
       "4      ad21c59c0840e6cb83a9ceb5573f8159  1.518557e+09   \n",
       "...                                 ...           ...   \n",
       "82592  aa04ef5214580b06b10e2a378300db44  1.485477e+09   \n",
       "82593  63943bddc261676b46f01ca7ac2f7bd8  1.517922e+09   \n",
       "82594  83c1379a015df1e13d02aae0204711ab  1.503845e+09   \n",
       "82595  11c177c8e97725db2631073c19f07b62  1.515447e+09   \n",
       "82596  11c177c8e97725db2631073c19f07b62  1.515447e+09   \n",
       "\n",
       "                                user_id            customer_city  \\\n",
       "0      9ef432eb6251297304e76186b10a928d                sao paulo   \n",
       "1      b0830fb4747a6c6d20dea0b8c802d7ef                barreiras   \n",
       "2      41ce2a54c0b03bf3443c3d931a367089               vianopolis   \n",
       "3      f88197465ea7920adcdbec7375364d82  sao goncalo do amarante   \n",
       "4      8ab97904e6daea8866dbdbc4fb7aad2c              santo andre   \n",
       "...                                 ...                      ...   \n",
       "82592  f01a6bfcc730456317e4081fe0c9940e              divinopolis   \n",
       "82593  1fca14ff2861355f6e5f14306ff977a7             praia grande   \n",
       "82594  1aa71eb042121263aafbe80c1b562c9c              nova vicosa   \n",
       "82595  b331b74b18dc79bcdf6532d51e1637c1                  japuiba   \n",
       "82596  b331b74b18dc79bcdf6532d51e1637c1                  japuiba   \n",
       "\n",
       "            product_category                   product_id  quantity   price  \\\n",
       "0                 housewares             housewares SKU 0       1.0   29.99   \n",
       "1                  perfumery              perfumery SKU 0       1.0  118.70   \n",
       "2                       auto                   auto SKU 0       1.0  159.90   \n",
       "3                   pet_shop               pet_shop SKU 0       1.0   45.00   \n",
       "4                 stationery             stationery SKU 0       1.0   19.90   \n",
       "...                      ...                          ...       ...     ...   \n",
       "82592          health_beauty        health_beauty SKU 100       1.0  370.00   \n",
       "82593                   baby                  baby SKU 12       1.0  174.90   \n",
       "82594      home_appliances_2     home_appliances_2 SKU 58       1.0  205.99   \n",
       "82595  computers_accessories  computers_accessories SKU 2       1.0  179.99   \n",
       "82596  computers_accessories  computers_accessories SKU 2       2.0  179.99   \n",
       "\n",
       "       review_score  \n",
       "0                 4  \n",
       "1                 4  \n",
       "2                 5  \n",
       "3                 5  \n",
       "4                 5  \n",
       "...             ...  \n",
       "82592             5  \n",
       "82593             4  \n",
       "82594             5  \n",
       "82595             2  \n",
       "82596             2  \n",
       "\n",
       "[82597 rows x 9 columns]"
      ]
     },
     "execution_count": 5,
     "metadata": {},
     "output_type": "execute_result"
    }
   ],
   "source": [
    "masterdf[['order_id', 'timestamp', 'user_id',\n",
    "       'customer_city', 'product_category','product_id', 'quantity',\n",
    "       'price', 'review_score' ]]"
   ]
  },
  {
   "cell_type": "markdown",
   "id": "ffd63c56",
   "metadata": {},
   "source": [
    "# Idenfity features that we need, and prepare the dataset"
   ]
  },
  {
   "cell_type": "markdown",
   "id": "862a6c52",
   "metadata": {},
   "source": [
    "The data contains many usable features, notably customer geographical area and product category. Users who are familar with content-based recommendation or hybrid recommendation system know that additional features of users and items help to improve the accuracy of the prediction.\n",
    "\n",
    "Let us start with user id, product id, and quantity. These three features are the bare minimum of what the engine needs. Think of quantity as equivalent to ratings in movie recommendation system, where the quantity tells us how much the consumer likes to buy the item, the higher the quantity, the higher his/her preference."
   ]
  },
  {
   "cell_type": "code",
   "execution_count": 8,
   "id": "2493a9c7",
   "metadata": {},
   "outputs": [],
   "source": [
    "### standardize item data types, especially string, float, and integer\n",
    "\n",
    "masterdf[['user_id',      \n",
    "          'product_id',  \n",
    "         ]] = masterdf[['user_id','product_id']].astype(str)\n",
    "\n",
    "# we will play around with the data type of the quantity, \n",
    "# which you shall see later it affects the accuracy of the prediction.\n",
    "\n",
    "masterdf['quantity'] = masterdf['quantity'].astype(float)"
   ]
  },
  {
   "cell_type": "markdown",
   "id": "44c5fe64",
   "metadata": {},
   "source": [
    "#### Data Preparation - Query and candidate table\n",
    "\n",
    "We only need to prepare two set of reference table-- an item table, which will be the ultimate reference table for items to be recommended, and an interaction/query table (or a ranking table, in the case of IMDB movie example) where it shows user's previous purchase history."
   ]
  },
  {
   "cell_type": "code",
   "execution_count": 35,
   "id": "07fd7a5d",
   "metadata": {},
   "outputs": [],
   "source": [
    "### define interactions data and user data\n",
    "\n",
    "### interactions \n",
    "### here we create a reference table of the user , item, and quantity purchased\n",
    "interactions_dict = masterdf.groupby(['user_id', 'product_id'])[ 'quantity'].sum().reset_index()\n",
    "\n",
    "## we tansform the table inta a dictionary , which then we feed into tensor slices\n",
    "# this step is crucial as this will be the type of data fed into the embedding layers\n",
    "interactions_dict = {name: np.array(value) for name, value in interactions_dict.items()}\n",
    "interactions = tf.data.Dataset.from_tensor_slices(interactions_dict)\n",
    "\n",
    "## we do similar step for item, where this is the reference table for items to be recommended\n",
    "items_dict = masterdf[['product_id']].drop_duplicates()\n",
    "items_dict = {name: np.array(value) for name, value in items_dict.items()}\n",
    "items = tf.data.Dataset.from_tensor_slices(items_dict)\n",
    "\n",
    "## map the features in interactions and items to an identifier that we will use throught the embedding layers\n",
    "## do it for all the items in interaction and item table\n",
    "## you may often get itemtype error, so that is why here i am casting the quantity type as float to ensure consistency\n",
    "interactions = interactions.map(lambda x: {\n",
    "    'user_id' : x['user_id'], \n",
    "    'product_id' : x['product_id'], \n",
    "    'quantity' : float(x['quantity']),\n",
    "\n",
    "})\n",
    "\n",
    "items = items.map(lambda x: x['product_id'])"
   ]
  },
  {
   "cell_type": "markdown",
   "id": "63f8c5ad",
   "metadata": {},
   "source": [
    "#### Basic Housekeeping\n",
    "\n",
    "Let's also figure out unique user ids and movie titles present in the data.\n",
    "\n",
    "We need a reference map of the raw values of categorical features to embedding vectors in the retrieval models. To do that, we need a vocabulary that maps a raw feature value to an integer in a contiguous range, which then will be mapped to the corresponding embeddings in the embedding tables inside the model."
   ]
  },
  {
   "cell_type": "code",
   "execution_count": 36,
   "id": "821d7a24",
   "metadata": {},
   "outputs": [],
   "source": [
    "unique_item_titles = np.unique(np.concatenate(list(items.batch(1000))))\n",
    "unique_user_ids = np.unique(np.concatenate(list(interactions.batch(1_000).map(lambda x: x[\"user_id\"]))))"
   ]
  },
  {
   "cell_type": "code",
   "execution_count": 48,
   "id": "8dda9b49",
   "metadata": {},
   "outputs": [],
   "source": [
    "### get unique item and user id's as a lookup table\n",
    "unique_item_titles = np.unique(np.concatenate(list(items.batch(1000))))\n",
    "unique_user_ids = np.unique(np.concatenate(list(interactions.batch(1_000).map(lambda x: x[\"user_id\"]))))\n",
    "\n",
    "# Randomly shuffle data and split between train and test.\n",
    "tf.random.set_seed(42)\n",
    "shuffled = interactions.shuffle(100_000, seed=42, reshuffle_each_iteration=False)\n",
    "\n",
    "train = shuffled.take(60_000)\n",
    "test = shuffled.skip(60_000).take(20_000)"
   ]
  },
  {
   "cell_type": "markdown",
   "id": "106e5bbe",
   "metadata": {},
   "source": [
    "# Ranking and Retrieval"
   ]
  },
  {
   "cell_type": "markdown",
   "id": "46d25caa",
   "metadata": {},
   "source": [
    "#### Simple Retrieval Model\n",
    "\n",
    "There are five important component of the query and candicate tower: candidate model (item_model), querty model (user_model), metrics, task, and compute loss. I will explain each of them in the model below:"
   ]
  },
  {
   "cell_type": "code",
   "execution_count": 38,
   "id": "22c57e7f",
   "metadata": {},
   "outputs": [],
   "source": [
    "class RetailModel(tfrs.Model):\n",
    "\n",
    "    def __init__(self, user_model, item_model):\n",
    "        super().__init__()\n",
    "        \n",
    "        ### Candidate model (item)\n",
    "        ### This is Keras preprocessing layers to first convert user ids to integers, \n",
    "        ### and then convert those to user embeddings via an Embedding layer. \n",
    "        ### We use the list of unique user ids we computed earlier as a vocabulary:\n",
    "        item_model = tf.keras.Sequential([\n",
    "                                        tf.keras.layers.experimental.preprocessing.StringLookup(\n",
    "                                        vocabulary=unique_item_titles, mask_token=None),\n",
    "                                        tf.keras.layers.Embedding(len(unique_item_titles) + 1, embedding_dimension)\n",
    "                                        ])\n",
    "        ### we pass the embedding layer into item model\n",
    "        self.item_model: tf.keras.Model = item_model\n",
    "            \n",
    "        ### Query model (users)    \n",
    "        user_model = tf.keras.Sequential([\n",
    "                                        tf.keras.layers.experimental.preprocessing.StringLookup(\n",
    "                                        vocabulary=unique_user_ids, mask_token=None),\n",
    "                                        # We add an additional embedding to account for unknown tokens.\n",
    "                                        tf.keras.layers.Embedding(len(unique_user_ids) + 1, embedding_dimension)\n",
    "                                        ])\n",
    "        self.user_model: tf.keras.Model = user_model\n",
    "        \n",
    "        ### for retrieval model. we take top-k accuracy as metrics\n",
    "        metrics = tfrs.metrics.FactorizedTopK(\n",
    "                                            candidates=items.batch(128).map(item_model)\n",
    "        \n",
    "        # define the task, which is retrieval                                    )    \n",
    "        task = tfrs.tasks.Retrieval(\n",
    "                                    metrics=metrics\n",
    "                                    )\n",
    "       \n",
    "        self.task: tf.keras.layers.Layer = task\n",
    "\n",
    "    def compute_loss(self, features: Dict[Text, tf.Tensor], training=False) -> tf.Tensor:\n",
    "        # We pick out the user features and pass them into the user model.\n",
    "        user_embeddings = self.user_model(features[\"user_id\"])\n",
    "        # And pick out the movie features and pass them into the movie model,\n",
    "        # getting embeddings back.\n",
    "        positive_movie_embeddings = self.item_model(features[\"product_id\"])\n",
    "\n",
    "        # The task computes the loss and the metrics.\n",
    "        return self.task(user_embeddings, positive_movie_embeddings)"
   ]
  },
  {
   "cell_type": "markdown",
   "id": "b9483ed0",
   "metadata": {},
   "source": [
    "#### Fitting and evaluating"
   ]
  },
  {
   "cell_type": "code",
   "execution_count": 49,
   "id": "6bd1be4a",
   "metadata": {},
   "outputs": [
    {
     "name": "stdout",
     "output_type": "stream",
     "text": [
      "Epoch 1/10\n",
      "8/8 [==============================] - 13s 1s/step - factorized_top_k/top_1_categorical_accuracy: 0.0013 - factorized_top_k/top_5_categorical_accuracy: 0.0047 - factorized_top_k/top_10_categorical_accuracy: 0.0074 - factorized_top_k/top_50_categorical_accuracy: 0.0192 - factorized_top_k/top_100_categorical_accuracy: 0.0291 - loss: 62067.3594 - regularization_loss: 0.0000e+00 - total_loss: 62067.3594\n",
      "Epoch 2/10\n",
      "8/8 [==============================] - 11s 1s/step - factorized_top_k/top_1_categorical_accuracy: 0.0873 - factorized_top_k/top_5_categorical_accuracy: 0.1983 - factorized_top_k/top_10_categorical_accuracy: 0.2584 - factorized_top_k/top_50_categorical_accuracy: 0.4776 - factorized_top_k/top_100_categorical_accuracy: 0.6039 - loss: 61768.0087 - regularization_loss: 0.0000e+00 - total_loss: 61768.0087\n",
      "Epoch 3/10\n",
      "8/8 [==============================] - 11s 1s/step - factorized_top_k/top_1_categorical_accuracy: 0.2200 - factorized_top_k/top_5_categorical_accuracy: 0.3801 - factorized_top_k/top_10_categorical_accuracy: 0.4406 - factorized_top_k/top_50_categorical_accuracy: 0.6642 - factorized_top_k/top_100_categorical_accuracy: 0.8036 - loss: 60099.1068 - regularization_loss: 0.0000e+00 - total_loss: 60099.1068\n",
      "Epoch 4/10\n",
      "8/8 [==============================] - 12s 1s/step - factorized_top_k/top_1_categorical_accuracy: 0.2785 - factorized_top_k/top_5_categorical_accuracy: 0.4599 - factorized_top_k/top_10_categorical_accuracy: 0.5180 - factorized_top_k/top_50_categorical_accuracy: 0.7009 - factorized_top_k/top_100_categorical_accuracy: 0.8098 - loss: 55294.3611 - regularization_loss: 0.0000e+00 - total_loss: 55294.3611\n",
      "Epoch 5/10\n",
      "8/8 [==============================] - 13s 2s/step - factorized_top_k/top_1_categorical_accuracy: 0.3065 - factorized_top_k/top_5_categorical_accuracy: 0.5276 - factorized_top_k/top_10_categorical_accuracy: 0.5828 - factorized_top_k/top_50_categorical_accuracy: 0.7376 - factorized_top_k/top_100_categorical_accuracy: 0.8273 - loss: 47883.4540 - regularization_loss: 0.0000e+00 - total_loss: 47883.4540\n",
      "Epoch 6/10\n",
      "8/8 [==============================] - 15s 2s/step - factorized_top_k/top_1_categorical_accuracy: 0.3571 - factorized_top_k/top_5_categorical_accuracy: 0.6018 - factorized_top_k/top_10_categorical_accuracy: 0.6493 - factorized_top_k/top_50_categorical_accuracy: 0.7834 - factorized_top_k/top_100_categorical_accuracy: 0.8602 - loss: 40391.6057 - regularization_loss: 0.0000e+00 - total_loss: 40391.6057\n",
      "Epoch 7/10\n",
      "8/8 [==============================] - 17s 2s/step - factorized_top_k/top_1_categorical_accuracy: 0.3963 - factorized_top_k/top_5_categorical_accuracy: 0.6771 - factorized_top_k/top_10_categorical_accuracy: 0.7188 - factorized_top_k/top_50_categorical_accuracy: 0.8341 - factorized_top_k/top_100_categorical_accuracy: 0.8985 - loss: 33843.2250 - regularization_loss: 0.0000e+00 - total_loss: 33843.2250\n",
      "Epoch 8/10\n",
      "8/8 [==============================] - 19s 2s/step - factorized_top_k/top_1_categorical_accuracy: 0.4230 - factorized_top_k/top_5_categorical_accuracy: 0.7477 - factorized_top_k/top_10_categorical_accuracy: 0.7853 - factorized_top_k/top_50_categorical_accuracy: 0.8878 - factorized_top_k/top_100_categorical_accuracy: 0.9287 - loss: 28254.5170 - regularization_loss: 0.0000e+00 - total_loss: 28254.5170\n",
      "Epoch 9/10\n",
      "8/8 [==============================] - 18s 2s/step - factorized_top_k/top_1_categorical_accuracy: 0.4504 - factorized_top_k/top_5_categorical_accuracy: 0.8098 - factorized_top_k/top_10_categorical_accuracy: 0.8448 - factorized_top_k/top_50_categorical_accuracy: 0.9247 - factorized_top_k/top_100_categorical_accuracy: 0.9504 - loss: 23588.9036 - regularization_loss: 0.0000e+00 - total_loss: 23588.9036\n",
      "Epoch 10/10\n",
      "8/8 [==============================] - 18s 2s/step - factorized_top_k/top_1_categorical_accuracy: 0.4745 - factorized_top_k/top_5_categorical_accuracy: 0.8694 - factorized_top_k/top_10_categorical_accuracy: 0.8987 - factorized_top_k/top_50_categorical_accuracy: 0.9479 - factorized_top_k/top_100_categorical_accuracy: 0.9737 - loss: 19782.7146 - regularization_loss: 0.0000e+00 - total_loss: 19782.7146\n"
     ]
    }
   ],
   "source": [
    "### Fitting and evaluating\n",
    "\n",
    "### we choose the dimensionality of the query and candicate representation.\n",
    "embedding_dimension = 32\n",
    "\n",
    "## we pass the model, which is the same model we created in the query and candidate tower, into the model\n",
    "item_model = tf.keras.Sequential([\n",
    "                                tf.keras.layers.experimental.preprocessing.StringLookup(\n",
    "                                vocabulary=unique_item_titles, mask_token=None),\n",
    "                                tf.keras.layers.Embedding(len(unique_item_titles) + 1, embedding_dimension)\n",
    "                                ])\n",
    "\n",
    "user_model = tf.keras.Sequential([\n",
    "                                tf.keras.layers.experimental.preprocessing.StringLookup(\n",
    "                                vocabulary=unique_user_ids, mask_token=None),\n",
    "                                # We add an additional embedding to account for unknown tokens.\n",
    "                                tf.keras.layers.Embedding(len(unique_user_ids) + 1, embedding_dimension)\n",
    "                                ])\n",
    "\n",
    "model = RetailModel(user_model, item_model)\n",
    "\n",
    "# a smaller learning rate may make the model move slower and prone to overfitting, so we stick to 0.1\n",
    "# other optimizers, such as SGD and Adam, are listed here https://www.tensorflow.org/api_docs/python/tf/keras/optimizers\n",
    "model.compile(optimizer=tf.keras.optimizers.Adagrad(learning_rate=0.1))\n",
    "\n",
    "cached_train = train.shuffle(100_000).batch(8192).cache()\n",
    "cached_test = test.batch(4096).cache()\n",
    "\n",
    "## fit the model with ten epochs\n",
    "model_hist = model.fit(cached_train, epochs=10)\n",
    "\n",
    "#evaluate the model\n",
    "model.evaluate(cached_test, return_dict=True)"
   ]
  },
  {
   "cell_type": "code",
   "execution_count": 50,
   "id": "894b18a5",
   "metadata": {},
   "outputs": [
    {
     "name": "stdout",
     "output_type": "stream",
     "text": [
      "4/4 [==============================] - 6s 940ms/step - factorized_top_k/top_1_categorical_accuracy: 4.6207e-04 - factorized_top_k/top_5_categorical_accuracy: 0.0041 - factorized_top_k/top_10_categorical_accuracy: 0.0065 - factorized_top_k/top_50_categorical_accuracy: 0.0208 - factorized_top_k/top_100_categorical_accuracy: 0.0337 - loss: 22440.4807 - regularization_loss: 0.0000e+00 - total_loss: 22440.4807\n"
     ]
    },
    {
     "data": {
      "text/plain": [
       "{'factorized_top_k/top_1_categorical_accuracy': 0.0004620716208592057,\n",
       " 'factorized_top_k/top_5_categorical_accuracy': 0.004081632476300001,\n",
       " 'factorized_top_k/top_10_categorical_accuracy': 0.006469002924859524,\n",
       " 'factorized_top_k/top_50_categorical_accuracy': 0.02079322375357151,\n",
       " 'factorized_top_k/top_100_categorical_accuracy': 0.033654216676950455,\n",
       " 'loss': 4584.71142578125,\n",
       " 'regularization_loss': 0,\n",
       " 'total_loss': 4584.71142578125}"
      ]
     },
     "execution_count": 50,
     "metadata": {},
     "output_type": "execute_result"
    }
   ],
   "source": [
    "model.evaluate(cached_test, return_dict=True)"
   ]
  },
  {
   "cell_type": "code",
   "execution_count": 52,
   "id": "9be01ecc",
   "metadata": {},
   "outputs": [
    {
     "data": {
      "text/plain": [
       "<matplotlib.legend.Legend at 0x244a538a580>"
      ]
     },
     "execution_count": 52,
     "metadata": {},
     "output_type": "execute_result"
    },
    {
     "data": {
      "image/png": "[encoded data removed]",
      "text/plain": [
       "<Figure size 432x288 with 1 Axes>"
      ]
     },
     "metadata": {
      "needs_background": "light"
     },
     "output_type": "display_data"
    }
   ],
   "source": [
    "# num_validation_runs = len(one_layer_history.history[\"val_factorized_top_k/top_100_categorical_accuracy\"])\n",
    "epochs = [i for i in range(10)]\n",
    "\n",
    "plt.plot(epochs, model_hist.history[\"factorized_top_k/top_100_categorical_accuracy\"], label=\"accuracy\")\n",
    "plt.title(\"Accuracy vs epoch\")\n",
    "plt.xlabel(\"epoch\")\n",
    "plt.ylabel(\"Top-100 accuracy\");\n",
    "plt.legend()"
   ]
  },
  {
   "cell_type": "markdown",
   "id": "b7eba79e",
   "metadata": {},
   "source": [
    "Notice that accuracy is pretty bad, but if we plot the number of accuracy vs epoch, we can see that it improves higher as more iterations go through."
   ]
  },
  {
   "cell_type": "markdown",
   "id": "4a52f0d5",
   "metadata": {},
   "source": [
    "To predict top recommended items for specific users, say, here, user 40, we use brute force layers take considers all available items for them. To speed up the calculation, refer to efficient serving: https://www.tensorflow.org/recommenders/examples/efficient_serving"
   ]
  },
  {
   "cell_type": "code",
   "execution_count": 53,
   "id": "38716fe4",
   "metadata": {},
   "outputs": [
    {
     "name": "stdout",
     "output_type": "stream",
     "text": [
      "Recommendations for user 40: [b'pet_shop SKU 25' b'cool_stuff SKU 25' b'bed_bath_table SKU 520'\n",
      " b'costruction_tools_tools SKU 1' b'bed_bath_table SKU 252'\n",
      " b'bed_bath_table SKU 230' b'computers_accessories SKU 127'\n",
      " b'furniture_decor SKU 87' b'watches_gifts SKU 265' b'electronics SKU 68']\n"
     ]
    }
   ],
   "source": [
    "# Create a model that takes in raw query features, and\n",
    "index = tfrs.layers.factorized_top_k.BruteForce(model.user_model)\n",
    "# recommends movies out of the entire movies dataset.\n",
    "index.index(items.batch(100).map(model.item_model), items)\n",
    "\n",
    "# Get recommendations.\n",
    "j = str(40)\n",
    "_, titles = index(tf.constant([j]))\n",
    "print(f\"Recommendations for user %s: {titles[0]}\" %(j))"
   ]
  },
  {
   "cell_type": "markdown",
   "id": "d4981023",
   "metadata": {},
   "source": [
    "There you are, our first simple yet effective recommendation engine using retrieval task. But what about ranking? can we rank all the items for best to worst, only then run retrieval task to retrieve selected items from the short list? Now we can explore another type of recommendation task: ranking."
   ]
  }
 ],
 "metadata": {
  "kernelspec": {
   "display_name": "Python (tensorflow 2.0)",
   "language": "python",
   "name": "tensorflow2"
  },
  "language_info": {
   "codemirror_mode": {
    "name": "ipython",
    "version": 3
   },
   "file_extension": ".py",
   "mimetype": "text/x-python",
   "name": "python",
   "nbconvert_exporter": "python",
   "pygments_lexer": "ipython3",
   "version": "3.8.8"
  }
 },
 "nbformat": 4,
 "nbformat_minor": 5
}
